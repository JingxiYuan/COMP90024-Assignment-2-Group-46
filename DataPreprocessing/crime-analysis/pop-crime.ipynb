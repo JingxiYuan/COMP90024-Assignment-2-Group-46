{
 "cells": [
  {
   "cell_type": "code",
   "execution_count": 2,
   "id": "initial_id",
   "metadata": {
    "collapsed": true,
    "ExecuteTime": {
     "end_time": "2024-05-08T05:36:29.919990Z",
     "start_time": "2024-05-08T05:36:29.915472Z"
    }
   },
   "outputs": [],
   "source": [
    "import pandas as pd\n",
    "import numpy as np\n",
    "import csv"
   ]
  },
  {
   "cell_type": "code",
   "outputs": [
    {
     "data": {
      "text/plain": "          LGA_name    LGA_rate  offence_count  \\\n0        Glen Eira    1.291637              2   \n1        Glen Eira   32.290924             50   \n2        Glen Eira   29.061832             45   \n3        Glen Eira    7.749822             12   \n4        Glen Eira    1.937455              3   \n...            ...         ...            ...   \n4282  Yarra Ranges    3.776530              6   \n4283  Yarra Ranges    0.629422              1   \n4284  Yarra Ranges    0.629422              1   \n4285  Yarra Ranges  447.518820            711   \n4286  Yarra Ranges    1.258843              2   \n\n                                offence_subdiv  year  \n0            A10 Homicide and related offences  2023  \n1             A20 Assault and related offences  2023  \n2                                  A50 Robbery  2023  \n3                  A60 Blackmail and extortion  2023  \n4                  A60 Blackmail and extortion  2023  \n...                                        ...   ...  \n4282         F20 Transport regulation offences  2020  \n4283         F20 Transport regulation offences  2020  \n4284  F30 Other government regulatory offences  2020  \n4285                F90 Miscellaneous offences  2020  \n4286                F90 Miscellaneous offences  2020  \n\n[4287 rows x 5 columns]",
      "text/html": "<div>\n<style scoped>\n    .dataframe tbody tr th:only-of-type {\n        vertical-align: middle;\n    }\n\n    .dataframe tbody tr th {\n        vertical-align: top;\n    }\n\n    .dataframe thead th {\n        text-align: right;\n    }\n</style>\n<table border=\"1\" class=\"dataframe\">\n  <thead>\n    <tr style=\"text-align: right;\">\n      <th></th>\n      <th>LGA_name</th>\n      <th>LGA_rate</th>\n      <th>offence_count</th>\n      <th>offence_subdiv</th>\n      <th>year</th>\n    </tr>\n  </thead>\n  <tbody>\n    <tr>\n      <th>0</th>\n      <td>Glen Eira</td>\n      <td>1.291637</td>\n      <td>2</td>\n      <td>A10 Homicide and related offences</td>\n      <td>2023</td>\n    </tr>\n    <tr>\n      <th>1</th>\n      <td>Glen Eira</td>\n      <td>32.290924</td>\n      <td>50</td>\n      <td>A20 Assault and related offences</td>\n      <td>2023</td>\n    </tr>\n    <tr>\n      <th>2</th>\n      <td>Glen Eira</td>\n      <td>29.061832</td>\n      <td>45</td>\n      <td>A50 Robbery</td>\n      <td>2023</td>\n    </tr>\n    <tr>\n      <th>3</th>\n      <td>Glen Eira</td>\n      <td>7.749822</td>\n      <td>12</td>\n      <td>A60 Blackmail and extortion</td>\n      <td>2023</td>\n    </tr>\n    <tr>\n      <th>4</th>\n      <td>Glen Eira</td>\n      <td>1.937455</td>\n      <td>3</td>\n      <td>A60 Blackmail and extortion</td>\n      <td>2023</td>\n    </tr>\n    <tr>\n      <th>...</th>\n      <td>...</td>\n      <td>...</td>\n      <td>...</td>\n      <td>...</td>\n      <td>...</td>\n    </tr>\n    <tr>\n      <th>4282</th>\n      <td>Yarra Ranges</td>\n      <td>3.776530</td>\n      <td>6</td>\n      <td>F20 Transport regulation offences</td>\n      <td>2020</td>\n    </tr>\n    <tr>\n      <th>4283</th>\n      <td>Yarra Ranges</td>\n      <td>0.629422</td>\n      <td>1</td>\n      <td>F20 Transport regulation offences</td>\n      <td>2020</td>\n    </tr>\n    <tr>\n      <th>4284</th>\n      <td>Yarra Ranges</td>\n      <td>0.629422</td>\n      <td>1</td>\n      <td>F30 Other government regulatory offences</td>\n      <td>2020</td>\n    </tr>\n    <tr>\n      <th>4285</th>\n      <td>Yarra Ranges</td>\n      <td>447.518820</td>\n      <td>711</td>\n      <td>F90 Miscellaneous offences</td>\n      <td>2020</td>\n    </tr>\n    <tr>\n      <th>4286</th>\n      <td>Yarra Ranges</td>\n      <td>1.258843</td>\n      <td>2</td>\n      <td>F90 Miscellaneous offences</td>\n      <td>2020</td>\n    </tr>\n  </tbody>\n</table>\n<p>4287 rows × 5 columns</p>\n</div>"
     },
     "execution_count": 3,
     "metadata": {},
     "output_type": "execute_result"
    }
   ],
   "source": [
    "crime_df = pd.read_csv(\"crime.csv\")\n",
    "crime_df"
   ],
   "metadata": {
    "collapsed": false,
    "ExecuteTime": {
     "end_time": "2024-05-08T05:37:03.013966Z",
     "start_time": "2024-05-08T05:37:02.942179Z"
    }
   },
   "id": "6ddc4bf7521d48be",
   "execution_count": 3
  },
  {
   "cell_type": "code",
   "outputs": [],
   "source": [
    "crime_df['crime_sum'] = crime_df.groupby('LGA_name')['offence_count'].transform('sum')"
   ],
   "metadata": {
    "collapsed": false,
    "ExecuteTime": {
     "end_time": "2024-05-08T06:08:32.057643Z",
     "start_time": "2024-05-08T06:08:32.045401Z"
    }
   },
   "id": "557c6cc3d865361f",
   "execution_count": 73
  },
  {
   "cell_type": "code",
   "outputs": [
    {
     "data": {
      "text/plain": "          LGA_name    LGA_rate  offence_count  \\\n0        Glen Eira    1.291637              2   \n1        Glen Eira   32.290924             50   \n2        Glen Eira   29.061832             45   \n3        Glen Eira    7.749822             12   \n4        Glen Eira    1.937455              3   \n...            ...         ...            ...   \n4282  Yarra Ranges    3.776530              6   \n4283  Yarra Ranges    0.629422              1   \n4284  Yarra Ranges    0.629422              1   \n4285  Yarra Ranges  447.518820            711   \n4286  Yarra Ranges    1.258843              2   \n\n                                offence_subdiv  year  crime_sum  \n0            A10 Homicide and related offences  2023      29301  \n1             A20 Assault and related offences  2023      29301  \n2                                  A50 Robbery  2023      29301  \n3                  A60 Blackmail and extortion  2023      29301  \n4                  A60 Blackmail and extortion  2023      29301  \n...                                        ...   ...        ...  \n4282         F20 Transport regulation offences  2020      30455  \n4283         F20 Transport regulation offences  2020      30455  \n4284  F30 Other government regulatory offences  2020      30455  \n4285                F90 Miscellaneous offences  2020      30455  \n4286                F90 Miscellaneous offences  2020      30455  \n\n[4287 rows x 6 columns]",
      "text/html": "<div>\n<style scoped>\n    .dataframe tbody tr th:only-of-type {\n        vertical-align: middle;\n    }\n\n    .dataframe tbody tr th {\n        vertical-align: top;\n    }\n\n    .dataframe thead th {\n        text-align: right;\n    }\n</style>\n<table border=\"1\" class=\"dataframe\">\n  <thead>\n    <tr style=\"text-align: right;\">\n      <th></th>\n      <th>LGA_name</th>\n      <th>LGA_rate</th>\n      <th>offence_count</th>\n      <th>offence_subdiv</th>\n      <th>year</th>\n      <th>crime_sum</th>\n    </tr>\n  </thead>\n  <tbody>\n    <tr>\n      <th>0</th>\n      <td>Glen Eira</td>\n      <td>1.291637</td>\n      <td>2</td>\n      <td>A10 Homicide and related offences</td>\n      <td>2023</td>\n      <td>29301</td>\n    </tr>\n    <tr>\n      <th>1</th>\n      <td>Glen Eira</td>\n      <td>32.290924</td>\n      <td>50</td>\n      <td>A20 Assault and related offences</td>\n      <td>2023</td>\n      <td>29301</td>\n    </tr>\n    <tr>\n      <th>2</th>\n      <td>Glen Eira</td>\n      <td>29.061832</td>\n      <td>45</td>\n      <td>A50 Robbery</td>\n      <td>2023</td>\n      <td>29301</td>\n    </tr>\n    <tr>\n      <th>3</th>\n      <td>Glen Eira</td>\n      <td>7.749822</td>\n      <td>12</td>\n      <td>A60 Blackmail and extortion</td>\n      <td>2023</td>\n      <td>29301</td>\n    </tr>\n    <tr>\n      <th>4</th>\n      <td>Glen Eira</td>\n      <td>1.937455</td>\n      <td>3</td>\n      <td>A60 Blackmail and extortion</td>\n      <td>2023</td>\n      <td>29301</td>\n    </tr>\n    <tr>\n      <th>...</th>\n      <td>...</td>\n      <td>...</td>\n      <td>...</td>\n      <td>...</td>\n      <td>...</td>\n      <td>...</td>\n    </tr>\n    <tr>\n      <th>4282</th>\n      <td>Yarra Ranges</td>\n      <td>3.776530</td>\n      <td>6</td>\n      <td>F20 Transport regulation offences</td>\n      <td>2020</td>\n      <td>30455</td>\n    </tr>\n    <tr>\n      <th>4283</th>\n      <td>Yarra Ranges</td>\n      <td>0.629422</td>\n      <td>1</td>\n      <td>F20 Transport regulation offences</td>\n      <td>2020</td>\n      <td>30455</td>\n    </tr>\n    <tr>\n      <th>4284</th>\n      <td>Yarra Ranges</td>\n      <td>0.629422</td>\n      <td>1</td>\n      <td>F30 Other government regulatory offences</td>\n      <td>2020</td>\n      <td>30455</td>\n    </tr>\n    <tr>\n      <th>4285</th>\n      <td>Yarra Ranges</td>\n      <td>447.518820</td>\n      <td>711</td>\n      <td>F90 Miscellaneous offences</td>\n      <td>2020</td>\n      <td>30455</td>\n    </tr>\n    <tr>\n      <th>4286</th>\n      <td>Yarra Ranges</td>\n      <td>1.258843</td>\n      <td>2</td>\n      <td>F90 Miscellaneous offences</td>\n      <td>2020</td>\n      <td>30455</td>\n    </tr>\n  </tbody>\n</table>\n<p>4287 rows × 6 columns</p>\n</div>"
     },
     "execution_count": 74,
     "metadata": {},
     "output_type": "execute_result"
    }
   ],
   "source": [
    "crime_df"
   ],
   "metadata": {
    "collapsed": false,
    "ExecuteTime": {
     "end_time": "2024-05-08T06:08:38.964213Z",
     "start_time": "2024-05-08T06:08:38.955236Z"
    }
   },
   "id": "96c3ef22e0bc57e1",
   "execution_count": 74
  },
  {
   "cell_type": "code",
   "outputs": [],
   "source": [
    "tmp_df = crime_df[crime_df.offence_subdiv == \"A10 Homicide and related offences\"]"
   ],
   "metadata": {
    "collapsed": false,
    "ExecuteTime": {
     "end_time": "2024-05-08T05:41:53.179754Z",
     "start_time": "2024-05-08T05:41:53.159648Z"
    }
   },
   "id": "731e726661c0c519",
   "execution_count": 10
  },
  {
   "cell_type": "code",
   "outputs": [
    {
     "ename": "TypeError",
     "evalue": "unhashable type: 'DataFrame'",
     "output_type": "error",
     "traceback": [
      "\u001B[0;31m---------------------------------------------------------------------------\u001B[0m",
      "\u001B[0;31mTypeError\u001B[0m                                 Traceback (most recent call last)",
      "Cell \u001B[0;32mIn[72], line 1\u001B[0m\n\u001B[0;32m----> 1\u001B[0m \u001B[43mtmp_df\u001B[49m\u001B[43m[\u001B[49m\u001B[43mtmp_df\u001B[49m\u001B[38;5;241;43m.\u001B[39;49m\u001B[43mgroupby\u001B[49m\u001B[43m(\u001B[49m\u001B[38;5;124;43m'\u001B[39;49m\u001B[38;5;124;43mLGA_name\u001B[39;49m\u001B[38;5;124;43m'\u001B[39;49m\u001B[43m)\u001B[49m\u001B[43m]\u001B[49m\n",
      "File \u001B[0;32m~/Documents/CCC/Code/.venv/lib/python3.11/site-packages/pandas/core/frame.py:4108\u001B[0m, in \u001B[0;36mDataFrame.__getitem__\u001B[0;34m(self, key)\u001B[0m\n\u001B[1;32m   4106\u001B[0m     \u001B[38;5;28;01mif\u001B[39;00m is_iterator(key):\n\u001B[1;32m   4107\u001B[0m         key \u001B[38;5;241m=\u001B[39m \u001B[38;5;28mlist\u001B[39m(key)\n\u001B[0;32m-> 4108\u001B[0m     indexer \u001B[38;5;241m=\u001B[39m \u001B[38;5;28;43mself\u001B[39;49m\u001B[38;5;241;43m.\u001B[39;49m\u001B[43mcolumns\u001B[49m\u001B[38;5;241;43m.\u001B[39;49m\u001B[43m_get_indexer_strict\u001B[49m\u001B[43m(\u001B[49m\u001B[43mkey\u001B[49m\u001B[43m,\u001B[49m\u001B[43m \u001B[49m\u001B[38;5;124;43m\"\u001B[39;49m\u001B[38;5;124;43mcolumns\u001B[39;49m\u001B[38;5;124;43m\"\u001B[39;49m\u001B[43m)\u001B[49m[\u001B[38;5;241m1\u001B[39m]\n\u001B[1;32m   4110\u001B[0m \u001B[38;5;66;03m# take() does not accept boolean indexers\u001B[39;00m\n\u001B[1;32m   4111\u001B[0m \u001B[38;5;28;01mif\u001B[39;00m \u001B[38;5;28mgetattr\u001B[39m(indexer, \u001B[38;5;124m\"\u001B[39m\u001B[38;5;124mdtype\u001B[39m\u001B[38;5;124m\"\u001B[39m, \u001B[38;5;28;01mNone\u001B[39;00m) \u001B[38;5;241m==\u001B[39m \u001B[38;5;28mbool\u001B[39m:\n",
      "File \u001B[0;32m~/Documents/CCC/Code/.venv/lib/python3.11/site-packages/pandas/core/indexes/base.py:6195\u001B[0m, in \u001B[0;36mIndex._get_indexer_strict\u001B[0;34m(self, key, axis_name)\u001B[0m\n\u001B[1;32m   6192\u001B[0m     keyarr \u001B[38;5;241m=\u001B[39m com\u001B[38;5;241m.\u001B[39masarray_tuplesafe(keyarr)\n\u001B[1;32m   6194\u001B[0m \u001B[38;5;28;01mif\u001B[39;00m \u001B[38;5;28mself\u001B[39m\u001B[38;5;241m.\u001B[39m_index_as_unique:\n\u001B[0;32m-> 6195\u001B[0m     indexer \u001B[38;5;241m=\u001B[39m \u001B[38;5;28;43mself\u001B[39;49m\u001B[38;5;241;43m.\u001B[39;49m\u001B[43mget_indexer_for\u001B[49m\u001B[43m(\u001B[49m\u001B[43mkeyarr\u001B[49m\u001B[43m)\u001B[49m\n\u001B[1;32m   6196\u001B[0m     keyarr \u001B[38;5;241m=\u001B[39m \u001B[38;5;28mself\u001B[39m\u001B[38;5;241m.\u001B[39mreindex(keyarr)[\u001B[38;5;241m0\u001B[39m]\n\u001B[1;32m   6197\u001B[0m \u001B[38;5;28;01melse\u001B[39;00m:\n",
      "File \u001B[0;32m~/Documents/CCC/Code/.venv/lib/python3.11/site-packages/pandas/core/indexes/base.py:6182\u001B[0m, in \u001B[0;36mIndex.get_indexer_for\u001B[0;34m(self, target)\u001B[0m\n\u001B[1;32m   6164\u001B[0m \u001B[38;5;250m\u001B[39m\u001B[38;5;124;03m\"\"\"\u001B[39;00m\n\u001B[1;32m   6165\u001B[0m \u001B[38;5;124;03mGuaranteed return of an indexer even when non-unique.\u001B[39;00m\n\u001B[1;32m   6166\u001B[0m \n\u001B[0;32m   (...)\u001B[0m\n\u001B[1;32m   6179\u001B[0m \u001B[38;5;124;03marray([0, 2])\u001B[39;00m\n\u001B[1;32m   6180\u001B[0m \u001B[38;5;124;03m\"\"\"\u001B[39;00m\n\u001B[1;32m   6181\u001B[0m \u001B[38;5;28;01mif\u001B[39;00m \u001B[38;5;28mself\u001B[39m\u001B[38;5;241m.\u001B[39m_index_as_unique:\n\u001B[0;32m-> 6182\u001B[0m     \u001B[38;5;28;01mreturn\u001B[39;00m \u001B[38;5;28;43mself\u001B[39;49m\u001B[38;5;241;43m.\u001B[39;49m\u001B[43mget_indexer\u001B[49m\u001B[43m(\u001B[49m\u001B[43mtarget\u001B[49m\u001B[43m)\u001B[49m\n\u001B[1;32m   6183\u001B[0m indexer, _ \u001B[38;5;241m=\u001B[39m \u001B[38;5;28mself\u001B[39m\u001B[38;5;241m.\u001B[39mget_indexer_non_unique(target)\n\u001B[1;32m   6184\u001B[0m \u001B[38;5;28;01mreturn\u001B[39;00m indexer\n",
      "File \u001B[0;32m~/Documents/CCC/Code/.venv/lib/python3.11/site-packages/pandas/core/indexes/base.py:3953\u001B[0m, in \u001B[0;36mIndex.get_indexer\u001B[0;34m(self, target, method, limit, tolerance)\u001B[0m\n\u001B[1;32m   3948\u001B[0m     target \u001B[38;5;241m=\u001B[39m target\u001B[38;5;241m.\u001B[39mastype(dtype, copy\u001B[38;5;241m=\u001B[39m\u001B[38;5;28;01mFalse\u001B[39;00m)\n\u001B[1;32m   3949\u001B[0m     \u001B[38;5;28;01mreturn\u001B[39;00m this\u001B[38;5;241m.\u001B[39m_get_indexer(\n\u001B[1;32m   3950\u001B[0m         target, method\u001B[38;5;241m=\u001B[39mmethod, limit\u001B[38;5;241m=\u001B[39mlimit, tolerance\u001B[38;5;241m=\u001B[39mtolerance\n\u001B[1;32m   3951\u001B[0m     )\n\u001B[0;32m-> 3953\u001B[0m \u001B[38;5;28;01mreturn\u001B[39;00m \u001B[38;5;28;43mself\u001B[39;49m\u001B[38;5;241;43m.\u001B[39;49m\u001B[43m_get_indexer\u001B[49m\u001B[43m(\u001B[49m\u001B[43mtarget\u001B[49m\u001B[43m,\u001B[49m\u001B[43m \u001B[49m\u001B[43mmethod\u001B[49m\u001B[43m,\u001B[49m\u001B[43m \u001B[49m\u001B[43mlimit\u001B[49m\u001B[43m,\u001B[49m\u001B[43m \u001B[49m\u001B[43mtolerance\u001B[49m\u001B[43m)\u001B[49m\n",
      "File \u001B[0;32m~/Documents/CCC/Code/.venv/lib/python3.11/site-packages/pandas/core/indexes/base.py:3980\u001B[0m, in \u001B[0;36mIndex._get_indexer\u001B[0;34m(self, target, method, limit, tolerance)\u001B[0m\n\u001B[1;32m   3977\u001B[0m     \u001B[38;5;28;01melse\u001B[39;00m:\n\u001B[1;32m   3978\u001B[0m         tgt_values \u001B[38;5;241m=\u001B[39m target\u001B[38;5;241m.\u001B[39m_get_engine_target()\n\u001B[0;32m-> 3980\u001B[0m     indexer \u001B[38;5;241m=\u001B[39m \u001B[38;5;28;43mself\u001B[39;49m\u001B[38;5;241;43m.\u001B[39;49m\u001B[43m_engine\u001B[49m\u001B[38;5;241;43m.\u001B[39;49m\u001B[43mget_indexer\u001B[49m\u001B[43m(\u001B[49m\u001B[43mtgt_values\u001B[49m\u001B[43m)\u001B[49m\n\u001B[1;32m   3982\u001B[0m \u001B[38;5;28;01mreturn\u001B[39;00m ensure_platform_int(indexer)\n",
      "File \u001B[0;32mindex.pyx:351\u001B[0m, in \u001B[0;36mpandas._libs.index.IndexEngine.get_indexer\u001B[0;34m()\u001B[0m\n",
      "File \u001B[0;32mpandas/_libs/hashtable_class_helper.pxi:7132\u001B[0m, in \u001B[0;36mpandas._libs.hashtable.PyObjectHashTable.lookup\u001B[0;34m()\u001B[0m\n",
      "\u001B[0;31mTypeError\u001B[0m: unhashable type: 'DataFrame'"
     ]
    }
   ],
   "source": [
    "tmp_df[tmp_df.groupby('LGA_name')]"
   ],
   "metadata": {
    "collapsed": false,
    "ExecuteTime": {
     "end_time": "2024-05-08T06:05:23.909210Z",
     "start_time": "2024-05-08T06:05:23.848286Z"
    }
   },
   "id": "93a2df6d03e444c3",
   "execution_count": 72
  },
  {
   "cell_type": "code",
   "outputs": [
    {
     "data": {
      "text/plain": "         LGA_name  population    age_group\n0         Bayside       55996  all_females\n1      Boroondara       94592  all_females\n2        Brimbank      102508  all_females\n3     Hobsons Bay       48513    all_males\n4      Manningham       62773    all_males\n5     Maribyrnong       46730  all_females\n6   Moonee Valley       67591  all_females\n7        Moreland       95507  all_females\n8    Port Phillip       57268    all_males\n9     Stonnington       61587  all_females\n10          Yarra       52070  all_females\n11        Banyule       67369  all_females\n12        Banyule       64571    all_males\n13     Boroondara       88431    all_males\n14        Darebin       85116  all_females\n15        Darebin       81314    all_males\n16     Manningham       66156  all_females\n17    Maribyrnong       48252    all_males\n18      Melbourne       90823    all_males\n19  Moonee Valley       64162    all_males\n20    Stonnington       57027    all_males\n21          Yarra       51055    all_males\n22        Bayside       51545    all_males\n23       Brimbank      105739    all_males\n24      Glen Eira       81112  all_females\n25      Glen Eira       77104    all_males\n26    Hobsons Bay       49676  all_females\n27      Melbourne       92933  all_females\n28       Moreland       93255    all_males\n29   Port Phillip       59208  all_females",
      "text/html": "<div>\n<style scoped>\n    .dataframe tbody tr th:only-of-type {\n        vertical-align: middle;\n    }\n\n    .dataframe tbody tr th {\n        vertical-align: top;\n    }\n\n    .dataframe thead th {\n        text-align: right;\n    }\n</style>\n<table border=\"1\" class=\"dataframe\">\n  <thead>\n    <tr style=\"text-align: right;\">\n      <th></th>\n      <th>LGA_name</th>\n      <th>population</th>\n      <th>age_group</th>\n    </tr>\n  </thead>\n  <tbody>\n    <tr>\n      <th>0</th>\n      <td>Bayside</td>\n      <td>55996</td>\n      <td>all_females</td>\n    </tr>\n    <tr>\n      <th>1</th>\n      <td>Boroondara</td>\n      <td>94592</td>\n      <td>all_females</td>\n    </tr>\n    <tr>\n      <th>2</th>\n      <td>Brimbank</td>\n      <td>102508</td>\n      <td>all_females</td>\n    </tr>\n    <tr>\n      <th>3</th>\n      <td>Hobsons Bay</td>\n      <td>48513</td>\n      <td>all_males</td>\n    </tr>\n    <tr>\n      <th>4</th>\n      <td>Manningham</td>\n      <td>62773</td>\n      <td>all_males</td>\n    </tr>\n    <tr>\n      <th>5</th>\n      <td>Maribyrnong</td>\n      <td>46730</td>\n      <td>all_females</td>\n    </tr>\n    <tr>\n      <th>6</th>\n      <td>Moonee Valley</td>\n      <td>67591</td>\n      <td>all_females</td>\n    </tr>\n    <tr>\n      <th>7</th>\n      <td>Moreland</td>\n      <td>95507</td>\n      <td>all_females</td>\n    </tr>\n    <tr>\n      <th>8</th>\n      <td>Port Phillip</td>\n      <td>57268</td>\n      <td>all_males</td>\n    </tr>\n    <tr>\n      <th>9</th>\n      <td>Stonnington</td>\n      <td>61587</td>\n      <td>all_females</td>\n    </tr>\n    <tr>\n      <th>10</th>\n      <td>Yarra</td>\n      <td>52070</td>\n      <td>all_females</td>\n    </tr>\n    <tr>\n      <th>11</th>\n      <td>Banyule</td>\n      <td>67369</td>\n      <td>all_females</td>\n    </tr>\n    <tr>\n      <th>12</th>\n      <td>Banyule</td>\n      <td>64571</td>\n      <td>all_males</td>\n    </tr>\n    <tr>\n      <th>13</th>\n      <td>Boroondara</td>\n      <td>88431</td>\n      <td>all_males</td>\n    </tr>\n    <tr>\n      <th>14</th>\n      <td>Darebin</td>\n      <td>85116</td>\n      <td>all_females</td>\n    </tr>\n    <tr>\n      <th>15</th>\n      <td>Darebin</td>\n      <td>81314</td>\n      <td>all_males</td>\n    </tr>\n    <tr>\n      <th>16</th>\n      <td>Manningham</td>\n      <td>66156</td>\n      <td>all_females</td>\n    </tr>\n    <tr>\n      <th>17</th>\n      <td>Maribyrnong</td>\n      <td>48252</td>\n      <td>all_males</td>\n    </tr>\n    <tr>\n      <th>18</th>\n      <td>Melbourne</td>\n      <td>90823</td>\n      <td>all_males</td>\n    </tr>\n    <tr>\n      <th>19</th>\n      <td>Moonee Valley</td>\n      <td>64162</td>\n      <td>all_males</td>\n    </tr>\n    <tr>\n      <th>20</th>\n      <td>Stonnington</td>\n      <td>57027</td>\n      <td>all_males</td>\n    </tr>\n    <tr>\n      <th>21</th>\n      <td>Yarra</td>\n      <td>51055</td>\n      <td>all_males</td>\n    </tr>\n    <tr>\n      <th>22</th>\n      <td>Bayside</td>\n      <td>51545</td>\n      <td>all_males</td>\n    </tr>\n    <tr>\n      <th>23</th>\n      <td>Brimbank</td>\n      <td>105739</td>\n      <td>all_males</td>\n    </tr>\n    <tr>\n      <th>24</th>\n      <td>Glen Eira</td>\n      <td>81112</td>\n      <td>all_females</td>\n    </tr>\n    <tr>\n      <th>25</th>\n      <td>Glen Eira</td>\n      <td>77104</td>\n      <td>all_males</td>\n    </tr>\n    <tr>\n      <th>26</th>\n      <td>Hobsons Bay</td>\n      <td>49676</td>\n      <td>all_females</td>\n    </tr>\n    <tr>\n      <th>27</th>\n      <td>Melbourne</td>\n      <td>92933</td>\n      <td>all_females</td>\n    </tr>\n    <tr>\n      <th>28</th>\n      <td>Moreland</td>\n      <td>93255</td>\n      <td>all_males</td>\n    </tr>\n    <tr>\n      <th>29</th>\n      <td>Port Phillip</td>\n      <td>59208</td>\n      <td>all_females</td>\n    </tr>\n  </tbody>\n</table>\n</div>"
     },
     "execution_count": 70,
     "metadata": {},
     "output_type": "execute_result"
    }
   ],
   "source": [
    "pop_df = pd.read_csv(\"lga_pop.csv\")\n",
    "pop_df"
   ],
   "metadata": {
    "collapsed": false,
    "ExecuteTime": {
     "end_time": "2024-05-08T06:03:18.301776Z",
     "start_time": "2024-05-08T06:03:18.257482Z"
    }
   },
   "id": "aad831fa7c68c59c",
   "execution_count": 70
  },
  {
   "cell_type": "code",
   "outputs": [],
   "source": [],
   "metadata": {
    "collapsed": false
   },
   "id": "6fec756710cdb8b"
  }
 ],
 "metadata": {
  "kernelspec": {
   "display_name": "Python 3",
   "language": "python",
   "name": "python3"
  },
  "language_info": {
   "codemirror_mode": {
    "name": "ipython",
    "version": 2
   },
   "file_extension": ".py",
   "mimetype": "text/x-python",
   "name": "python",
   "nbconvert_exporter": "python",
   "pygments_lexer": "ipython2",
   "version": "2.7.6"
  }
 },
 "nbformat": 4,
 "nbformat_minor": 5
}
