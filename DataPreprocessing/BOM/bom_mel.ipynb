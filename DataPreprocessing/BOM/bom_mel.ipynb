{
 "cells": [
  {
   "cell_type": "code",
   "execution_count": 51,
   "metadata": {
    "collapsed": true,
    "ExecuteTime": {
     "start_time": "2024-04-30T16:07:40.031167Z",
     "end_time": "2024-04-30T16:07:40.039353Z"
    }
   },
   "outputs": [],
   "source": [
    "import json, requests\n",
    "import pandas as pd\n",
    "from elasticsearch import Elasticsearch\n",
    "from elasticsearch.exceptions import BadRequestError, NotFoundError\n",
    "import warnings\n",
    "warnings.filterwarnings(\"ignore\")\n",
    "from string import Template"
   ]
  },
  {
   "cell_type": "code",
   "execution_count": 2,
   "outputs": [],
   "source": [
    "BOM = {\n",
    "    \"Mel_Olympic_Park)\": \"https://reg.bom.gov.au/fwo/IDV60901/IDV60901.95936.json\"\n",
    "}"
   ],
   "metadata": {
    "collapsed": false,
    "ExecuteTime": {
     "start_time": "2024-04-30T13:30:02.875930Z",
     "end_time": "2024-04-30T13:30:02.885009Z"
    }
   }
  },
  {
   "cell_type": "code",
   "execution_count": 3,
   "outputs": [
    {
     "data": {
      "text/plain": "<Response [200]>"
     },
     "execution_count": 3,
     "metadata": {},
     "output_type": "execute_result"
    }
   ],
   "source": [
    "response = requests.get(BOM[\"Mel_Olympic_Park)\"])\n",
    "response"
   ],
   "metadata": {
    "collapsed": false,
    "ExecuteTime": {
     "start_time": "2024-04-30T14:38:44.661111Z",
     "end_time": "2024-04-30T14:38:44.880694Z"
    }
   }
  },
  {
   "cell_type": "code",
   "execution_count": 9,
   "outputs": [],
   "source": [
    "result = response.json()[\"observations\"]"
   ],
   "metadata": {
    "collapsed": false,
    "ExecuteTime": {
     "start_time": "2024-04-30T14:48:01.253162Z",
     "end_time": "2024-04-30T14:48:01.257539Z"
    }
   }
  },
  {
   "cell_type": "code",
   "execution_count": 11,
   "outputs": [
    {
     "name": "stdout",
     "output_type": "stream",
     "text": [
      "Melbourne (Olympic Park) Victoria\n"
     ]
    }
   ],
   "source": [
    "# extract state, station name from header\n",
    "header = result[\"header\"][0]\n",
    "station_name = header[\"name\"]\n",
    "state = header[\"state\"]\n",
    "print(station_name+' '+state)"
   ],
   "metadata": {
    "collapsed": false,
    "ExecuteTime": {
     "start_time": "2024-04-30T14:49:54.151708Z",
     "end_time": "2024-04-30T14:49:54.155151Z"
    }
   }
  },
  {
   "cell_type": "code",
   "execution_count": 17,
   "outputs": [
    {
     "data": {
      "text/plain": "146"
     },
     "execution_count": 17,
     "metadata": {},
     "output_type": "execute_result"
    }
   ],
   "source": [
    "data = result[\"data\"]\n",
    "len(data)"
   ],
   "metadata": {
    "collapsed": false,
    "ExecuteTime": {
     "start_time": "2024-04-30T14:52:41.652136Z",
     "end_time": "2024-04-30T14:52:41.657553Z"
    }
   }
  },
  {
   "cell_type": "code",
   "execution_count": 21,
   "outputs": [],
   "source": [
    "row = data[0]\n",
    "row_pd = pd.Series(row, name= \"data\")"
   ],
   "metadata": {
    "collapsed": false,
    "ExecuteTime": {
     "start_time": "2024-04-30T15:01:08.181292Z",
     "end_time": "2024-04-30T15:01:08.187374Z"
    }
   }
  },
  {
   "cell_type": "code",
   "execution_count": 22,
   "outputs": [],
   "source": [
    "useful_feature = [\"wmo\", \"local_date_time_full\", \"lat\", \"lon\",\"apparent_t\",\"delta_t\",\"gust_kmh\",\"gust_kt\",\"air_temp\",\"dewpt\",\"press\",\"rain_trace\",\"rel_hum\",\"wind_spd_kmh\",\"wind_spd_kt\",\"wind_dir\"]"
   ],
   "metadata": {
    "collapsed": false,
    "ExecuteTime": {
     "start_time": "2024-04-30T15:06:50.082740Z",
     "end_time": "2024-04-30T15:06:50.088515Z"
    }
   }
  },
  {
   "cell_type": "code",
   "execution_count": 24,
   "outputs": [],
   "source": [
    "clear_row = row_pd[useful_feature]"
   ],
   "metadata": {
    "collapsed": false,
    "ExecuteTime": {
     "start_time": "2024-04-30T15:08:28.989621Z",
     "end_time": "2024-04-30T15:08:28.994797Z"
    }
   }
  },
  {
   "cell_type": "code",
   "execution_count": 27,
   "outputs": [
    {
     "name": "stderr",
     "output_type": "stream",
     "text": [
      "/Users/michaelyu/miniforge3/envs/COMP90024/lib/python3.8/site-packages/urllib3/connectionpool.py:1103: InsecureRequestWarning: Unverified HTTPS request is being made to host '127.0.0.1'. Adding certificate verification is strongly advised. See: https://urllib3.readthedocs.io/en/latest/advanced-usage.html#tls-warnings\n",
      "  warnings.warn(\n"
     ]
    },
    {
     "data": {
      "text/plain": "ListApiResponse([{'health': 'green', 'status': 'open', 'index': 'vic_roads_crash', 'uuid': 'uecBFYBZTM2oRVi8sAyrpA', 'pri': '3', 'rep': '1', 'docs.count': '78586', 'docs.deleted': '0', 'store.size': '43.1mb', 'pri.store.size': '21.5mb'}, {'health': 'green', 'status': 'open', 'index': 'population', 'uuid': 'YNyjimPARPKVHdry7UAsOg', 'pri': '3', 'rep': '1', 'docs.count': '3040', 'docs.deleted': '0', 'store.size': '1.4gb', 'pri.store.size': '742.2mb'}])"
     },
     "execution_count": 27,
     "metadata": {},
     "output_type": "execute_result"
    }
   ],
   "source": [
    "client = Elasticsearch (\n",
    "    \"https://127.0.0.1:9200\",\n",
    "    verify_certs= False,\n",
    "    basic_auth=('elastic', 'elastic'),\n",
    "    request_timeout=300)\n",
    "index_list = client.cat.indices(format=\"json\")\n",
    "index_list"
   ],
   "metadata": {
    "collapsed": false,
    "ExecuteTime": {
     "start_time": "2024-04-30T15:15:59.573362Z",
     "end_time": "2024-04-30T15:16:00.627461Z"
    }
   }
  },
  {
   "cell_type": "code",
   "execution_count": 49,
   "outputs": [],
   "source": [
    "BOM_mappings = {\n",
    "    \"settings\": {\n",
    "        \"index\": {\n",
    "            \"number_of_shards\": 3,\n",
    "            \"number_of_replicas\":1\n",
    "        }\n",
    "    },\n",
    "    \"mappings\": {\n",
    "        \"properties\": {\n",
    "            \"STATION\": {\n",
    "                \"type\":\"keyword\"\n",
    "            },\n",
    "            \"STATE\": {\n",
    "                \"type\": \"keyword\"\n",
    "            },\n",
    "            \"DATE\": {\n",
    "                \"type\": \"date\"\n",
    "            },\n",
    "            \"Location\" : {\n",
    "                \"type\": \"geo_point\"\n",
    "            },\n",
    "            \"wmo\": {\n",
    "                \"type\": \"integer\"\n",
    "            },\n",
    "            \"air_temp\": {\n",
    "                \"type\": \"double\"\n",
    "            },\n",
    "            \"apparent_t\": {\n",
    "                \"type\": \"double\",\n",
    "            },\n",
    "            \"dewpt\": {\n",
    "                \"type\": \"double\"\n",
    "            },\n",
    "            \"rel_hum\": {\n",
    "                \"type\": \"integer\"\n",
    "            },\n",
    "            \"delta_t\": {\n",
    "                \"type\": \"double\",\n",
    "            },\n",
    "            \"wind_dir\": {\n",
    "                \"type\": \"keyword\"\n",
    "            },\n",
    "            \"wind_spd_kmh\": {\n",
    "                \"type\": \"integer\"\n",
    "            },\n",
    "            \"wind_spd_kt\": {\n",
    "                \"type\": \"integer\"\n",
    "            },\n",
    "            \"gust_kmh\": {\n",
    "                \"type\": \"integer\"\n",
    "            },\n",
    "            \"gust_kt\": {\n",
    "                \"type\": \"integer\"\n",
    "            },\n",
    "            \"press\": {\n",
    "                \"type\": \"double\"\n",
    "            },\n",
    "            \"rain_trace\": {\n",
    "                \"type\": \"double\"\n",
    "            }\n",
    "        }\n",
    "    }\n",
    "}"
   ],
   "metadata": {
    "collapsed": false,
    "ExecuteTime": {
     "start_time": "2024-04-30T16:06:50.447198Z",
     "end_time": "2024-04-30T16:06:50.448622Z"
    }
   }
  },
  {
   "cell_type": "code",
   "execution_count": 81,
   "outputs": [
    {
     "data": {
      "text/plain": "HeadApiResponse(True)"
     },
     "execution_count": 81,
     "metadata": {},
     "output_type": "execute_result"
    }
   ],
   "source": [
    "index_name = \"bom_weather\"\n",
    "try:\n",
    "    client.indices.create(index=index_name, body=BOM_mappings)\n",
    "except BadRequestError as e:\n",
    "    print(\"The index has been already in Elastic Search\")\n",
    "client.indices.exists(index=index_name)"
   ],
   "metadata": {
    "collapsed": false,
    "ExecuteTime": {
     "start_time": "2024-04-30T17:09:19.339143Z",
     "end_time": "2024-04-30T17:09:20.107119Z"
    }
   }
  },
  {
   "cell_type": "code",
   "execution_count": 82,
   "outputs": [],
   "source": [
    "def parse_time(obj: str):\n",
    "    yy = obj[0:4]\n",
    "    mm = obj[4:6]\n",
    "    dd = obj[6:8]\n",
    "    hh = obj[8:10]\n",
    "    mm2= obj[10:12]\n",
    "    ss = obj[-2:]\n",
    "\n",
    "    return f\"{yy}-{mm}-{dd}T{hh}:{mm2}:{ss}\"\n",
    "\n",
    "processed_data = []\n",
    "for row in data:\n",
    "    row_pd = pd.Series(row, name= \"data\")\n",
    "    clear_row = row_pd[useful_feature]\n",
    "    clear_row[\"local_date_time_full\"] = parse_time(clear_row[\"local_date_time_full\"])\n",
    "    processed_data.append(clear_row)"
   ],
   "metadata": {
    "collapsed": false,
    "ExecuteTime": {
     "start_time": "2024-04-30T17:09:20.142635Z",
     "end_time": "2024-04-30T17:09:20.146557Z"
    }
   }
  },
  {
   "cell_type": "code",
   "execution_count": 83,
   "outputs": [],
   "source": [
    "query_template = Template('''\n",
    "{\n",
    "    \"query\": {\n",
    "        \"bool\": {\n",
    "            \"must\": [\n",
    "                {\n",
    "                    \"match\": {\n",
    "                        \"DATE\": \"$DATE\"\n",
    "                    }\n",
    "                },\n",
    "                {\n",
    "                    \"match\": {\n",
    "                        \"STATION\": \"$STATION\"\n",
    "                    }\n",
    "                }\n",
    "            ]\n",
    "        }\n",
    "    }\n",
    "}\n",
    "''')\n",
    "expr = query_template.substitute({\"STATION\":station_name, \"DATE\":\"2024-04-30T14:30:00\"})\n",
    "body = json.loads(expr)\n",
    "res = client.search(index=index_name, body=body)"
   ],
   "metadata": {
    "collapsed": false,
    "ExecuteTime": {
     "start_time": "2024-04-30T17:09:20.146009Z",
     "end_time": "2024-04-30T17:09:20.233659Z"
    }
   }
  },
  {
   "cell_type": "code",
   "execution_count": 84,
   "outputs": [
    {
     "data": {
      "text/plain": "0"
     },
     "execution_count": 84,
     "metadata": {},
     "output_type": "execute_result"
    }
   ],
   "source": [
    "res[\"hits\"][\"total\"][\"value\"]"
   ],
   "metadata": {
    "collapsed": false,
    "ExecuteTime": {
     "start_time": "2024-04-30T17:09:20.557482Z",
     "end_time": "2024-04-30T17:09:20.561550Z"
    }
   }
  },
  {
   "cell_type": "code",
   "execution_count": 85,
   "outputs": [
    {
     "data": {
      "text/plain": "Index(['wmo', 'local_date_time_full', 'lat', 'lon', 'apparent_t', 'delta_t',\n       'gust_kmh', 'gust_kt', 'air_temp', 'dewpt', 'press', 'rain_trace',\n       'rel_hum', 'wind_spd_kmh', 'wind_spd_kt', 'wind_dir'],\n      dtype='object')"
     },
     "execution_count": 85,
     "metadata": {},
     "output_type": "execute_result"
    }
   ],
   "source": [
    "processed_data[0].index"
   ],
   "metadata": {
    "collapsed": false,
    "ExecuteTime": {
     "start_time": "2024-04-30T17:09:20.967206Z",
     "end_time": "2024-04-30T17:09:20.973359Z"
    }
   }
  },
  {
   "cell_type": "code",
   "execution_count": 86,
   "outputs": [],
   "source": [
    "doc_template = Template('''{\n",
    "            \"STATION\": \"$station\",\n",
    "            \"STATE\": \"$state\",\n",
    "            \"DATE\": \"$local_date_time_full\",\n",
    "            \"Location\":{\"lat\":$lat, \"lon\":$lon},\n",
    "            \"wmo\": $wmo,\n",
    "            \"air_temp\": $air_temp,\n",
    "            \"apparent_t\": $apparent_t,\n",
    "            \"dewpt\": $dewpt,\n",
    "            \"rel_hum\": $rel_hum,\n",
    "            \"delta_t\": $delta_t,\n",
    "            \"wind_dir\": \"$wind_dir\",\n",
    "            \"wind_spd_kmh\": $wind_spd_kmh,\n",
    "            \"wind_spd_kt\": $wind_spd_kt,\n",
    "            \"gust_kmh\": $gust_kmh,\n",
    "            \"gust_kt\": $gust_kt,\n",
    "            \"press\": $press,\n",
    "            \"rain_trace\": $rain_trace\n",
    "        }''')"
   ],
   "metadata": {
    "collapsed": false,
    "ExecuteTime": {
     "start_time": "2024-04-30T17:09:21.532853Z",
     "end_time": "2024-04-30T17:09:21.539811Z"
    }
   }
  },
  {
   "cell_type": "code",
   "execution_count": 87,
   "outputs": [],
   "source": [
    "def para2dict(row):\n",
    "    f = {idx: row[idx] for idx in row.index}\n",
    "    s = {\"station\":station_name, \"state\":state}\n",
    "    return {**f,**s}"
   ],
   "metadata": {
    "collapsed": false,
    "ExecuteTime": {
     "start_time": "2024-04-30T17:09:22.305105Z",
     "end_time": "2024-04-30T17:09:22.313897Z"
    }
   }
  },
  {
   "cell_type": "code",
   "execution_count": 88,
   "outputs": [
    {
     "name": "stderr",
     "output_type": "stream",
     "text": [
      "100%|██████████| 146/146 [00:31<00:00,  4.58it/s]\n"
     ]
    }
   ],
   "source": [
    "from tqdm import tqdm\n",
    "for record in tqdm(processed_data):\n",
    "    date = record[\"local_date_time_full\"]\n",
    "    expr = query_template.substitute({\"STATION\":station_name, \"DATE\":date})\n",
    "    query_body = json.loads(expr)\n",
    "    res = client.search(index=index_name, body=query_body)\n",
    "    if res[\"hits\"][\"total\"][\"value\"] == 0:\n",
    "        expr = doc_template.substitute(para2dict(record))\n",
    "        doc_body = json.loads(expr)\n",
    "        client.index(index=index_name, body=doc_body)"
   ],
   "metadata": {
    "collapsed": false,
    "ExecuteTime": {
     "start_time": "2024-04-30T17:09:22.929125Z",
     "end_time": "2024-04-30T17:09:54.863080Z"
    }
   }
  },
  {
   "cell_type": "code",
   "execution_count": null,
   "outputs": [],
   "source": [],
   "metadata": {
    "collapsed": false
   }
  }
 ],
 "metadata": {
  "kernelspec": {
   "display_name": "Python 3",
   "language": "python",
   "name": "python3"
  },
  "language_info": {
   "codemirror_mode": {
    "name": "ipython",
    "version": 2
   },
   "file_extension": ".py",
   "mimetype": "text/x-python",
   "name": "python",
   "nbconvert_exporter": "python",
   "pygments_lexer": "ipython2",
   "version": "2.7.6"
  }
 },
 "nbformat": 4,
 "nbformat_minor": 0
}
